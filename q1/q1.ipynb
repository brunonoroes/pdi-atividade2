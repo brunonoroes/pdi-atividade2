{
 "cells": [
  {
   "cell_type": "code",
   "execution_count": 10,
   "metadata": {},
   "outputs": [],
   "source": [
    "import cv2\n",
    "import matplotlib.pyplot as plt\n",
    "import numpy as np"
   ]
  },
  {
   "cell_type": "code",
   "execution_count": 16,
   "metadata": {},
   "outputs": [],
   "source": [
    "## implementar a função que identifica a bandeira\n",
    "## a função deve receber uma imagem e retornar a bandeira identificada\n",
    "## a função deve retornar uma lista de tuplas, onde cada tupla contém as coordenadas de um dos cantos da bandeira\n",
    "## [(PAIS, (x1, y2), (x2, y2)`),(PAIS, (x1, y2), (x2, y2)`),(PAIS, (x1, y2), (x2, y2)`),...]\n",
    "\n",
    "def identifica_bandeira(img):\n",
    "    # Sua implementação deve começar aqui\n",
    def identifica_bandeira(img):
    import numpy as np
    import cv2

    resultado = []

    if img.dtype != np.uint8:
        img = img.astype(np.uint8)

    hsv = cv2.cvtColor(img, cv2.COLOR_BGR2HSV)
    gray = cv2.cvtColor(img, cv2.COLOR_BGR2GRAY)
    _, thresh = cv2.threshold(gray, 10, 255, cv2.THRESH_BINARY)

    contornos, _ = cv2.findContours(thresh, cv2.RETR_EXTERNAL, cv2.CHAIN_APPROX_SIMPLE)
    contornos = sorted(contornos, key=lambda c: cv2.boundingRect(c)[0])

    def cor(hsv_color):
        h, s, v = hsv_color
        if v > 200 and s < 30:
            return 'branco'
        if (h < 10 or h > 160) and s > 100 and v > 100:
            return 'vermelho'
        elif 10 <= h <= 25 and s > 100:
            return 'laranja'
        elif 35 <= h <= 85 and s > 100:
            return 'verde'
        return 'outra'

    for cnt in contornos:
        x, y, w, h = cv2.boundingRect(cnt)
        bandeira = img[y:y+h, x:x+w]
        bandeira_hsv = hsv[y:y+h, x:x+w]

        pais = 'desconhecido'

        # Analisar como se fosse vertical
        third_w = w // 3
        left = np.mean(bandeira_hsv[:, 0:third_w, :], axis=(0, 1))
        center = np.mean(bandeira_hsv[:, third_w:2*third_w, :], axis=(0, 1))
        right = np.mean(bandeira_hsv[:, 2*third_w:, :], axis=(0, 1))
        cores_verticais = [cor(left), cor(center), cor(right)]

        # Analisar como se fosse horizontal
        half_h = h // 2
        top = np.mean(bandeira_hsv[0:half_h, :, :], axis=(0, 1))
        bottom = np.mean(bandeira_hsv[half_h:, :, :], axis=(0, 1))
        cores_horizontais = [cor(top), cor(bottom)]

        # Verificação pelas cores verticais
        if cores_verticais == ['verde', 'branco', 'vermelho']:
            pais = 'italia'
        elif cores_verticais == ['verde', 'branco', 'laranja']:
            pais = 'irlanda'
        elif cores_verticais == ['vermelho', 'branco', 'vermelho']:
            pais = 'peru'
        elif cores_horizontais == ['vermelho', 'branco']:
            parte_superior = bandeira[0:half_h, 0:w//2]
            branco_mask = cv2.inRange(parte_superior, (200, 200, 200), (255, 255, 255))
            proporcao_simbolo = np.sum(branco_mask) / (branco_mask.size * 255)
            pais = 'singapura' if proporcao_simbolo > 0.01 else 'monaco'

        resultado.append((pais, (x, y), (x + w, y + h)))

    return resultado
    "    # quando implemenar a função, remova o pass\n",
    "\n"
   ]
  },
  {
   "cell_type": "code",
   "execution_count": null,
   "metadata": {},
   "outputs": [],
   "source": []
  },
  {
   "cell_type": "code",
   "execution_count": null,
   "metadata": {},
   "outputs": [],
   "source": []
  },
  {
   "cell_type": "code",
   "execution_count": 33,
   "metadata": {},
   "outputs": [],
   "source": [
    "## nao alterar essa função\n",
    "# Função para desenhar as bandeiras identificadas\n",
    "def draw_bandeiras(lista_bandeiras, bgr):\n",
    "    try:\n",
    "        for bandeira in lista_bandeiras:\n",
    "            cv2.rectangle(bgr, bandeira[1], bandeira[2], (255, 0, 0), 5)\n",
    "            cv2.putText(bgr, bandeira[0], bandeira[1], cv2.FONT_HERSHEY_SIMPLEX, 1, (255, 0, 0), 2, cv2.LINE_AA)\n",
    "        return bgr\n",
    "    except Exception as e:\n",
    "        return bgr"
   ]
  },
  {
   "cell_type": "code",
   "execution_count": null,
   "metadata": {},
   "outputs": [],
   "source": [
    "## Para testar a função identifica_bandeira\n",
    "\n",
    "# Você pode testar a função identifica_bandeira com as imagens de teste fornecidas\n",
    "# \n",
    "img = cv2.imread('img/teste1.png')\n",
    "# img = cv2.imread('img/teste2.png')\n",
    "# img = cv2.imread('img/teste3.png')\n",
    "# img = cv2.imread('img/teste4.png')\n",
    "\n",
    "# Chamar a função identifica_bandeira\n",
    "resultado = identifica_bandeira(img)\n",
    "\n",
    "# Imprimir o resultado da função identifica_bandeira \n",
    "print(resultado)\n",
    "\n",
    "# Desenhar as bandeiras na imagem\n",
    "bgr = draw_bandeiras(resultado, img)\n",
    "plt.imshow(cv2.cvtColor(bgr, cv2.COLOR_BGR2RGB))\n",
    "plt.show()\n",
    "\n",
    "\n"
   ]
  },
  {
   "cell_type": "code",
   "execution_count": null,
   "metadata": {},
   "outputs": [],
   "source": []
  }
 ],
 "metadata": {
  "kernelspec": {
   "display_name": "Python 3",
   "language": "python",
   "name": "python3"
  },
  "language_info": {
   "codemirror_mode": {
    "name": "ipython",
    "version": 3
   },
   "file_extension": ".py",
   "mimetype": "text/x-python",
   "name": "python",
   "nbconvert_exporter": "python",
   "pygments_lexer": "ipython3",
   "version": "3.9.6"
  }
 },
 "nbformat": 4,
 "nbformat_minor": 2
}
